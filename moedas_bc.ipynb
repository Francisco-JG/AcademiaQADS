{
 "metadata": {
  "language_info": {
   "codemirror_mode": {
    "name": "ipython",
    "version": 3
   },
   "file_extension": ".py",
   "mimetype": "text/x-python",
   "name": "python",
   "nbconvert_exporter": "python",
   "pygments_lexer": "ipython3",
   "version": "3.8.5"
  },
  "orig_nbformat": 2,
  "kernelspec": {
   "name": "python3",
   "display_name": "Python 3.8.5 64-bit"
  },
  "interpreter": {
   "hash": "af573f283834de0d94267a2f349eb6a57bfc80fc16df6f4176b3eb1c7a5367fc"
  }
 },
 "nbformat": 4,
 "nbformat_minor": 2,
 "cells": [
  {
   "cell_type": "code",
   "execution_count": 4,
   "source": [
    "import pandas as pd\r\n",
    "import pickle"
   ],
   "outputs": [],
   "metadata": {}
  },
  {
   "cell_type": "code",
   "execution_count": 8,
   "source": [
    "url_moedas = \"https://olinda.bcb.gov.br/olinda/servico/PTAX/versao/v1/odata/Moedas?%24format=json\"\r\n",
    "\r\n",
    "df_moedas = pd.json_normalize(pd.read_json(url_moedas)[\"value\"])\r\n",
    "\r\n",
    "def cotaMoeda():\r\n",
    "    lista = []\r\n",
    "    entradas = []\r\n",
    "    print(\"Esta é a lista de moedas dispoíveis:\")\r\n",
    "    print(df_moedas)\r\n",
    "    \r\n",
    "    fim = False\r\n",
    "    while not fim:\r\n",
    "        moeda = input('Insira o símbolo de uma das moedas apresentadas: ')\r\n",
    "        if moedas in df_moedas['simbolo']:\r\n",
    "            resposta = input('Escolher mais uma moeda? (N para finalizar/qualquer tecla para adicionar) ')\r\n",
    "            lista.append(moeda)\r\n",
    "            if resposta == \"N\":\r\n",
    "                fim = True\r\n",
    "        else:\r\n",
    "            print(\"Moeda inválida\")\r\n",
    "    \r\n",
    "    inicio = input('Insira a data inicial (mm-dd-aaaa): ')\r\n",
    "    final = input('Insira a data final (mm-dd-aaaa): ')\r\n",
    "\r\n",
    "    nomes_moedas = \"\" # variável para nomear o arquivo exportado\r\n",
    "    for i in lista:\r\n",
    "        url = 'https://olinda.bcb.gov.br/olinda/servico/PTAX/versao/v1/odata/CotacaoMoedaPeriodo(moeda=@moeda,dataInicial=@dataInicial,dataFinalCotacao=@dataFinalCotacao)?%40moeda=%27{}%27&%40dataInicial=%27{}%27&%40dataFinalCotacao=%27{}%27&%24format=json'.format(i, inicio, final)\r\n",
    "        entrada = pd.json_normalize(pd.read_json(url)['value'])\r\n",
    "        entradas.append(entrada)\r\n",
    "        nomes_moedas += \"_\" + i\r\n",
    "    df_final = entradas[0]\r\n",
    "    \r\n",
    "    if len(entradas) > 1:\r\n",
    "        for k in range(1,len(entradas)):\r\n",
    "            df_final = df_final.merge(entradas[k], on=[\"dataHoraCotacao\", \"tipoBoletim\"], suffixes=[\"_\" + i for i in lista])\r\n",
    "            #  reordenar para as colunas comuns ficarem em primeiro lugar:\r\n",
    "            df_final = df_final.reindex(columns=(['dataHoraCotacao','tipoBoletim'] + list([a for a in df_final.columns if a != 'dataHoraCotacao' and a != 'tipoBoletim']) ))\r\n",
    "    \r\n",
    "    pickle.dump(df_final, open(\"cotacoes_{}_{}{}.pickle\".format(inicio, final, nomes_moedas), \"wb\"))\r\n",
    "    return df_final"
   ],
   "outputs": [],
   "metadata": {}
  }
 ]
}